{
  "nbformat": 4,
  "nbformat_minor": 0,
  "metadata": {
    "colab": {
      "name": "專案程式_志工填寫表單整理.ipynb",
      "provenance": [],
      "collapsed_sections": [],
      "include_colab_link": true
    },
    "kernelspec": {
      "name": "python3",
      "display_name": "Python 3"
    },
    "language_info": {
      "name": "python"
    }
  },
  "cells": [
    {
      "cell_type": "markdown",
      "metadata": {
        "id": "view-in-github",
        "colab_type": "text"
      },
      "source": [
        "<a href=\"https://colab.research.google.com/github/alexyin2/LightWill-Project/blob/main/%E5%B0%88%E6%A1%88%E7%A8%8B%E5%BC%8F_%E5%BF%97%E5%B7%A5%E5%A1%AB%E5%AF%AB%E8%A1%A8%E5%96%AE%E6%95%B4%E7%90%86.ipynb\" target=\"_parent\"><img src=\"https://colab.research.google.com/assets/colab-badge.svg\" alt=\"Open In Colab\"/></a>"
      ]
    },
    {
      "cell_type": "markdown",
      "source": [
        "# 資料儲存數位化轉型\n",
        "開發團隊：LightWill \\\\\n",
        "開發日期：2022/2/10\n",
        "\n",
        "## 內容\n",
        "此程式檔旨在 A) 統計與整合手作步道場次 B) 條列所有手作過得步道 C) 統計步道師實習時數，其步驟包含匯入原始資料、進行必要的資料清理與格式統一化，最後匯出到Google表單，詳細細節請參考下方程式檔。\n",
        "\n",
        "## 使用說明\n",
        "1. \n",
        "2. \n",
        "\n",
        "## 資料格式注意事項\n",
        "1. worksheet第一列記得填寫欄位名稱\n",
        "2. 志工人數須為整數，非range\n",
        "3. 需注意檔案需為google sheet格式，而非.xlsx（在檔名旁邊若有顯示旁邊若有顯示.xlsx就是不對的）\n",
        "\n",
        "#TODO\n",
        "加入input box\n",
        "https://www.w3schools.com/python/showpython.asp?filename=demo_ref_input"
      ],
      "metadata": {
        "id": "YPTyxK2Y9KhF"
      }
    },
    {
      "cell_type": "markdown",
      "source": [
        "## 資料授權 & 輸入必要資訊\n"
      ],
      "metadata": {
        "id": "HGHeXM0VovGQ"
      }
    },
    {
      "cell_type": "code",
      "source": [
        "import gspread\n",
        "import pandas as pd\n",
        "import numpy as np\n",
        "import string\n",
        "import copy\n",
        "import re\n",
        "\n",
        "from datetime import datetime, timedelta\n",
        "from oauth2client.client import GoogleCredentials\n",
        "from google.colab import auth\n",
        "\n",
        "auth.authenticate_user()\n",
        "gc = gspread.authorize(GoogleCredentials.get_application_default())"
      ],
      "metadata": {
        "id": "hFZzN1qjo4lw"
      },
      "execution_count": null,
      "outputs": []
    },
    {
      "cell_type": "code",
      "source": [
        "助教人力需求表URL = input(\"請輸入「助教人力需求表」的檔案連結：\")\n",
        "手作步道場次URL = input(\"請輸入「手作步道場次」的檔案連結：\")\n",
        "步道志工URL = input(\"請輸入「步道志工資料庫」的檔案連結：\")\n",
        "歷年手作步道統計URL = input(\"請輸入「歷年手作步道統計」的檔案連結：\")\n",
        "YEAR = input(\"請輸入欲整理資料的西元年（例如：2022）\")\n",
        "\n",
        "# Inputs\n",
        "# 助教人力需求表URL = 'https://docs.google.com/spreadsheets/d/1fQcbsmv6QT4swdjc7_J4NNlAbVCg0MmybRuktkMlFZk/edit?usp=sharing'\n",
        "# 手作步道場次URL = 'https://docs.google.com/spreadsheets/d/1hwqmNHHhY7mFW53FyZdHpfMRy5wnP_T0RPdf_TTabXI/edit#gid=0'\n",
        "# 步道志工URL = 'https://docs.google.com/spreadsheets/d/1BVJiIiRIXodp-rVjRePDKwrQv9slWkTk07dUiS-eLAU'\n",
        "# 歷年手作步道統計URL = \"https://docs.google.com/spreadsheets/d/15O0U8f0P8N-Ur_678lCgYkQ04D5PR_Sg1bmXVKh6Fj8/edit#gid=1778324176\"\n",
        "# YEAR = \"2022\""
      ],
      "metadata": {
        "colab": {
          "base_uri": "https://localhost:8080/"
        },
        "id": "87Vg2iFZrqb4",
        "outputId": "37e1ba13-1625-4c35-bdf0-74ce625f6066"
      },
      "execution_count": null,
      "outputs": [
        {
          "name": "stdout",
          "output_type": "stream",
          "text": [
            "請輸入欲整理資料的西元年（例如：2022）2022\n"
          ]
        }
      ]
    },
    {
      "cell_type": "markdown",
      "source": [
        "## A. 統計與整合手作步道場次\n",
        "\n",
        "匯入資料來源：[手作步道活動助教人力需求表 的副本](https://docs.google.com/spreadsheets/d/1lwqKHL3214o3DD-stVLfGMRBfzknQa5CKKKH_pBOZ0c/edit#gid=1043167225)\n",
        "\n",
        "輸出資料位置：[歷年手作步道統計-2020統計.xlsx 的副本](https://docs.google.com/spreadsheets/d/15O0U8f0P8N-Ur_678lCgYkQ04D5PR_Sg1bmXVKh6Fj8/edit#gid=1778324176)"
      ],
      "metadata": {
        "id": "WzMZWAu3onFM"
      }
    },
    {
      "cell_type": "markdown",
      "source": [
        "###1. 檔案讀取"
      ],
      "metadata": {
        "id": "OIKce-sro5T3"
      }
    },
    {
      "cell_type": "code",
      "source": [
        "# Read data\n",
        "助教人力需求表全 = gc.open_by_url(助教人力需求表URL)\n",
        "# print(\"此檔案worksheet:\", 助教人力需求表.worksheets())\n",
        "助教人力需求表 = 助教人力需求表全.worksheet(YEAR).get_all_values()\n",
        "助教人力需求表 = pd.DataFrame(助教人力需求表[1:], columns=助教人力需求表[0])\n",
        "\n",
        "print(\"資料列數:\",助教人力需求表.shape[0])\n",
        "助教人力需求表.head()"
      ],
      "metadata": {
        "id": "MGlPxgCTo_Wz",
        "colab": {
          "base_uri": "https://localhost:8080/",
          "height": 384
        },
        "outputId": "301e6be5-854c-4bf4-c1ac-bad9505e7ae7"
      },
      "execution_count": null,
      "outputs": [
        {
          "output_type": "stream",
          "name": "stdout",
          "text": [
            "資料列數: 8\n"
          ]
        },
        {
          "output_type": "execute_result",
          "data": {
            "text/html": [
              "\n",
              "  <div id=\"df-486f0cb1-a086-4267-950c-40ee4fe8aacb\">\n",
              "    <div class=\"colab-df-container\">\n",
              "      <div>\n",
              "<style scoped>\n",
              "    .dataframe tbody tr th:only-of-type {\n",
              "        vertical-align: middle;\n",
              "    }\n",
              "\n",
              "    .dataframe tbody tr th {\n",
              "        vertical-align: top;\n",
              "    }\n",
              "\n",
              "    .dataframe thead th {\n",
              "        text-align: right;\n",
              "    }\n",
              "</style>\n",
              "<table border=\"1\" class=\"dataframe\">\n",
              "  <thead>\n",
              "    <tr style=\"text-align: right;\">\n",
              "      <th></th>\n",
              "      <th>日期</th>\n",
              "      <th>活動名稱</th>\n",
              "      <th>手作步道名稱</th>\n",
              "      <th>縣市</th>\n",
              "      <th>鄉鎮區</th>\n",
              "      <th>社區</th>\n",
              "      <th>負責人</th>\n",
              "      <th>志工人數</th>\n",
              "      <th>需求人力</th>\n",
              "      <th>可登錄時數</th>\n",
              "      <th>講師</th>\n",
              "      <th>助教1</th>\n",
              "      <th>助教2</th>\n",
              "      <th>助教3</th>\n",
              "      <th>助教4</th>\n",
              "      <th>助教5</th>\n",
              "      <th>助教6</th>\n",
              "      <th>種子師資實習登記區\\n(會依該場活動狀況確認合適的夥伴；實習資格請已通知為準)</th>\n",
              "    </tr>\n",
              "  </thead>\n",
              "  <tbody>\n",
              "    <tr>\n",
              "      <th>0</th>\n",
              "      <td>1/15</td>\n",
              "      <td>五酒桶山工作假期（一）</td>\n",
              "      <td></td>\n",
              "      <td></td>\n",
              "      <td></td>\n",
              "      <td></td>\n",
              "      <td>朝政</td>\n",
              "      <td>20</td>\n",
              "      <td>除講師外，需2位實習步道師以上(滿)</td>\n",
              "      <td>8</td>\n",
              "      <td>伍老師\\n文老師</td>\n",
              "      <td>木木</td>\n",
              "      <td>逸婷</td>\n",
              "      <td></td>\n",
              "      <td></td>\n",
              "      <td></td>\n",
              "      <td></td>\n",
              "      <td>（本場次不開放登記）</td>\n",
              "    </tr>\n",
              "    <tr>\n",
              "      <th>1</th>\n",
              "      <td>1/16</td>\n",
              "      <td>五酒桶山工作假期（二）</td>\n",
              "      <td></td>\n",
              "      <td></td>\n",
              "      <td></td>\n",
              "      <td></td>\n",
              "      <td>朝政</td>\n",
              "      <td>20</td>\n",
              "      <td>除講師外，需2位實習步道師以上(滿)</td>\n",
              "      <td>8</td>\n",
              "      <td>伍老師\\n文老師</td>\n",
              "      <td>麗娜</td>\n",
              "      <td>隆漢</td>\n",
              "      <td></td>\n",
              "      <td></td>\n",
              "      <td></td>\n",
              "      <td></td>\n",
              "      <td>（本場次不開放登記）</td>\n",
              "    </tr>\n",
              "    <tr>\n",
              "      <th>2</th>\n",
              "      <td>2/9-10</td>\n",
              "      <td>台大梅峰農場手作步道</td>\n",
              "      <td></td>\n",
              "      <td></td>\n",
              "      <td></td>\n",
              "      <td></td>\n",
              "      <td>可萱</td>\n",
              "      <td>20</td>\n",
              "      <td>4-6(步道師以上1、實習以上2)(滿)</td>\n",
              "      <td>16</td>\n",
              "      <td>清地</td>\n",
              "      <td>敬佳</td>\n",
              "      <td>立文</td>\n",
              "      <td>正雄</td>\n",
              "      <td>姿臻</td>\n",
              "      <td>彥輝</td>\n",
              "      <td>慧娟</td>\n",
              "      <td>立文、正雄、姿臻、歸真、彥輝、慧娟、武治</td>\n",
              "    </tr>\n",
              "    <tr>\n",
              "      <th>3</th>\n",
              "      <td>3/5-6</td>\n",
              "      <td>玉山林道手作活動(大亞電纜)</td>\n",
              "      <td></td>\n",
              "      <td></td>\n",
              "      <td></td>\n",
              "      <td></td>\n",
              "      <td>可萱</td>\n",
              "      <td>20</td>\n",
              "      <td>6(步道師以上2、實習以上2)(滿)</td>\n",
              "      <td>8</td>\n",
              "      <td>伍老師\\n銘謙</td>\n",
              "      <td>清地</td>\n",
              "      <td>木木</td>\n",
              "      <td>沂芝</td>\n",
              "      <td>敬佳</td>\n",
              "      <td>武治</td>\n",
              "      <td></td>\n",
              "      <td>立文、豪萱、秀慈、藝婷、珮雯、武治、靜儀、于盟、美莉、小鈺</td>\n",
              "    </tr>\n",
              "    <tr>\n",
              "      <th>4</th>\n",
              "      <td>3/12</td>\n",
              "      <td>B612小行星手作步道體驗（一）</td>\n",
              "      <td></td>\n",
              "      <td></td>\n",
              "      <td></td>\n",
              "      <td></td>\n",
              "      <td>地瓜</td>\n",
              "      <td>12-15</td>\n",
              "      <td>4-6(請看註解)</td>\n",
              "      <td>8</td>\n",
              "      <td>朝政</td>\n",
              "      <td></td>\n",
              "      <td></td>\n",
              "      <td></td>\n",
              "      <td></td>\n",
              "      <td></td>\n",
              "      <td></td>\n",
              "      <td></td>\n",
              "    </tr>\n",
              "  </tbody>\n",
              "</table>\n",
              "</div>\n",
              "      <button class=\"colab-df-convert\" onclick=\"convertToInteractive('df-486f0cb1-a086-4267-950c-40ee4fe8aacb')\"\n",
              "              title=\"Convert this dataframe to an interactive table.\"\n",
              "              style=\"display:none;\">\n",
              "        \n",
              "  <svg xmlns=\"http://www.w3.org/2000/svg\" height=\"24px\"viewBox=\"0 0 24 24\"\n",
              "       width=\"24px\">\n",
              "    <path d=\"M0 0h24v24H0V0z\" fill=\"none\"/>\n",
              "    <path d=\"M18.56 5.44l.94 2.06.94-2.06 2.06-.94-2.06-.94-.94-2.06-.94 2.06-2.06.94zm-11 1L8.5 8.5l.94-2.06 2.06-.94-2.06-.94L8.5 2.5l-.94 2.06-2.06.94zm10 10l.94 2.06.94-2.06 2.06-.94-2.06-.94-.94-2.06-.94 2.06-2.06.94z\"/><path d=\"M17.41 7.96l-1.37-1.37c-.4-.4-.92-.59-1.43-.59-.52 0-1.04.2-1.43.59L10.3 9.45l-7.72 7.72c-.78.78-.78 2.05 0 2.83L4 21.41c.39.39.9.59 1.41.59.51 0 1.02-.2 1.41-.59l7.78-7.78 2.81-2.81c.8-.78.8-2.07 0-2.86zM5.41 20L4 18.59l7.72-7.72 1.47 1.35L5.41 20z\"/>\n",
              "  </svg>\n",
              "      </button>\n",
              "      \n",
              "  <style>\n",
              "    .colab-df-container {\n",
              "      display:flex;\n",
              "      flex-wrap:wrap;\n",
              "      gap: 12px;\n",
              "    }\n",
              "\n",
              "    .colab-df-convert {\n",
              "      background-color: #E8F0FE;\n",
              "      border: none;\n",
              "      border-radius: 50%;\n",
              "      cursor: pointer;\n",
              "      display: none;\n",
              "      fill: #1967D2;\n",
              "      height: 32px;\n",
              "      padding: 0 0 0 0;\n",
              "      width: 32px;\n",
              "    }\n",
              "\n",
              "    .colab-df-convert:hover {\n",
              "      background-color: #E2EBFA;\n",
              "      box-shadow: 0px 1px 2px rgba(60, 64, 67, 0.3), 0px 1px 3px 1px rgba(60, 64, 67, 0.15);\n",
              "      fill: #174EA6;\n",
              "    }\n",
              "\n",
              "    [theme=dark] .colab-df-convert {\n",
              "      background-color: #3B4455;\n",
              "      fill: #D2E3FC;\n",
              "    }\n",
              "\n",
              "    [theme=dark] .colab-df-convert:hover {\n",
              "      background-color: #434B5C;\n",
              "      box-shadow: 0px 1px 3px 1px rgba(0, 0, 0, 0.15);\n",
              "      filter: drop-shadow(0px 1px 2px rgba(0, 0, 0, 0.3));\n",
              "      fill: #FFFFFF;\n",
              "    }\n",
              "  </style>\n",
              "\n",
              "      <script>\n",
              "        const buttonEl =\n",
              "          document.querySelector('#df-486f0cb1-a086-4267-950c-40ee4fe8aacb button.colab-df-convert');\n",
              "        buttonEl.style.display =\n",
              "          google.colab.kernel.accessAllowed ? 'block' : 'none';\n",
              "\n",
              "        async function convertToInteractive(key) {\n",
              "          const element = document.querySelector('#df-486f0cb1-a086-4267-950c-40ee4fe8aacb');\n",
              "          const dataTable =\n",
              "            await google.colab.kernel.invokeFunction('convertToInteractive',\n",
              "                                                     [key], {});\n",
              "          if (!dataTable) return;\n",
              "\n",
              "          const docLinkHtml = 'Like what you see? Visit the ' +\n",
              "            '<a target=\"_blank\" href=https://colab.research.google.com/notebooks/data_table.ipynb>data table notebook</a>'\n",
              "            + ' to learn more about interactive tables.';\n",
              "          element.innerHTML = '';\n",
              "          dataTable['output_type'] = 'display_data';\n",
              "          await google.colab.output.renderOutput(dataTable, element);\n",
              "          const docLink = document.createElement('div');\n",
              "          docLink.innerHTML = docLinkHtml;\n",
              "          element.appendChild(docLink);\n",
              "        }\n",
              "      </script>\n",
              "    </div>\n",
              "  </div>\n",
              "  "
            ],
            "text/plain": [
              "       日期              活動名稱  ... 助教6 種子師資實習登記區\\n(會依該場活動狀況確認合適的夥伴；實習資格請已通知為準)\n",
              "0    1/15       五酒桶山工作假期（一）  ...                                  （本場次不開放登記）\n",
              "1    1/16       五酒桶山工作假期（二）  ...                                  （本場次不開放登記）\n",
              "2  2/9-10        台大梅峰農場手作步道  ...  慧娟                    立文、正雄、姿臻、歸真、彥輝、慧娟、武治\n",
              "3   3/5-6    玉山林道手作活動(大亞電纜)  ...               立文、豪萱、秀慈、藝婷、珮雯、武治、靜儀、于盟、美莉、小鈺\n",
              "4    3/12  B612小行星手作步道體驗（一）  ...                                            \n",
              "\n",
              "[5 rows x 18 columns]"
            ]
          },
          "metadata": {},
          "execution_count": 11
        }
      ]
    },
    {
      "cell_type": "markdown",
      "source": [
        "### 2. 擷取並整理所需欄位\n",
        "2.1 其他欄位 \\\\\n",
        "2.2 計算助教人數\n",
        "包括\"助教1\"至\"助教6\" & \"種子師資實習登記區\" 兩種計算的加種\n",
        "- \"助教1\"至\"助教6\"：加總非空白的cell數\n",
        "- 種子師資實習登記區：若有人--> 人數 = \"、\"出現數 + 1"
      ],
      "metadata": {
        "id": "RLqoCfzS7nG9"
      }
    },
    {
      "cell_type": "code",
      "source": [
        "# 新增一個空的新增一個空的df儲存整理完的資料資料\n",
        "df = pd.DataFrame()\n",
        "\n",
        "# 活動名稱\n",
        "df[\"活動名稱\"] = 助教人力需求表[\"活動名稱\"]\n",
        "\n",
        "# 日期 -> recommend using the format 1/2-1/3 or 1/31-2/2\n",
        "def clean_date(date_str):\n",
        "    date_str = date_str.rstrip().replace(\"\\n\", \"\").split('-')[0]\n",
        "    date = YEAR + \"/\" + date_str\n",
        "    date = pd.to_datetime(date, format='%Y/%m/%d').strftime('%Y.%m.%d')\n",
        "    return date\n",
        "\n",
        "df['日期'] = 助教人力需求表['日期'].apply(clean_date).astype(str)\n",
        "\n",
        "# Not working perfectly, will extract 1/15 as 1/1...\n",
        "# m = re.match(r\"([1-9][0-2]?/[1-9][0-2]?)(-?)([1-9]?[0-9]?)\", df['日期'])\n",
        "\n",
        "# 天數 -> asl them to fill it out\n",
        "df['天數'] = np.nan\n",
        "\n",
        "# 合作對象 -> Blank, need them to fill it out\n",
        "df['合作對象'] = np.nan\n",
        "\n",
        "# 類型 -> Blank, need them to fill it out\n",
        "df['類型'] = np.nan\n",
        "\n",
        "# 志工人數 -> need to ba a whole number, not a range\n",
        "df[\"志工人數\"] = 助教人力需求表[\"志工人數\"]\n",
        "\n",
        "# 步道名稱 -> ask them to fill it out in the original data file, then we can grab the data\n",
        "df['步道名稱'] = 助教人力需求表['手作步道名稱']\n",
        "\n",
        "# 講師\n",
        "teacher_cols = ['講師'] + [col for col in 助教人力需求表.columns if '助教' in col]\n",
        "助教人力需求表[teacher_cols] = 助教人力需求表[teacher_cols].replace(r'^\\s*$', np.nan, regex=True)\n",
        "\n",
        "extra_col = '種子師資實習登記區\\n(會依該場活動狀況確認合適的夥伴；實習資格請已通知為準)'\n",
        "助教人力需求表['講師助教'] = (\n",
        "    助教人力需求表[teacher_cols].notna().sum(axis = 1) + \n",
        "    助教人力需求表[extra_col].str.count('、') +\n",
        "    np.where(助教人力需求表[extra_col].str.contains('、'),1,0)\n",
        ")\n",
        "\n",
        "df['講師助教'] = 助教人力需求表['講師助教']\n",
        "\n",
        "# 備註\n",
        "df['備註'] = np.nan"
      ],
      "metadata": {
        "id": "X3dXQ3bI7tp2"
      },
      "execution_count": null,
      "outputs": []
    },
    {
      "cell_type": "markdown",
      "source": [
        "###3. 結果呈現"
      ],
      "metadata": {
        "id": "ewqruxGIpI_D"
      }
    },
    {
      "cell_type": "code",
      "source": [
        "df"
      ],
      "metadata": {
        "colab": {
          "base_uri": "https://localhost:8080/",
          "height": 297
        },
        "id": "IIpY3bGHvluF",
        "outputId": "41a1b7e5-2a59-4cdf-ebbd-bb8558adad51"
      },
      "execution_count": null,
      "outputs": [
        {
          "output_type": "execute_result",
          "data": {
            "text/html": [
              "\n",
              "  <div id=\"df-33e09e7f-ee6d-44cf-9b99-da4fb39758f0\">\n",
              "    <div class=\"colab-df-container\">\n",
              "      <div>\n",
              "<style scoped>\n",
              "    .dataframe tbody tr th:only-of-type {\n",
              "        vertical-align: middle;\n",
              "    }\n",
              "\n",
              "    .dataframe tbody tr th {\n",
              "        vertical-align: top;\n",
              "    }\n",
              "\n",
              "    .dataframe thead th {\n",
              "        text-align: right;\n",
              "    }\n",
              "</style>\n",
              "<table border=\"1\" class=\"dataframe\">\n",
              "  <thead>\n",
              "    <tr style=\"text-align: right;\">\n",
              "      <th></th>\n",
              "      <th>活動名稱</th>\n",
              "      <th>日期</th>\n",
              "      <th>天數</th>\n",
              "      <th>合作對象</th>\n",
              "      <th>類型</th>\n",
              "      <th>志工人數</th>\n",
              "      <th>步道名稱</th>\n",
              "      <th>講師助教</th>\n",
              "      <th>備註</th>\n",
              "    </tr>\n",
              "  </thead>\n",
              "  <tbody>\n",
              "    <tr>\n",
              "      <th>0</th>\n",
              "      <td>五酒桶山工作假期（一）</td>\n",
              "      <td>2022.01.15</td>\n",
              "      <td>NaN</td>\n",
              "      <td>NaN</td>\n",
              "      <td>NaN</td>\n",
              "      <td>20</td>\n",
              "      <td></td>\n",
              "      <td>4</td>\n",
              "      <td>NaN</td>\n",
              "    </tr>\n",
              "    <tr>\n",
              "      <th>1</th>\n",
              "      <td>五酒桶山工作假期（二）</td>\n",
              "      <td>2022.01.16</td>\n",
              "      <td>NaN</td>\n",
              "      <td>NaN</td>\n",
              "      <td>NaN</td>\n",
              "      <td>20</td>\n",
              "      <td></td>\n",
              "      <td>4</td>\n",
              "      <td>NaN</td>\n",
              "    </tr>\n",
              "    <tr>\n",
              "      <th>2</th>\n",
              "      <td>台大梅峰農場手作步道</td>\n",
              "      <td>2022.02.09</td>\n",
              "      <td>NaN</td>\n",
              "      <td>NaN</td>\n",
              "      <td>NaN</td>\n",
              "      <td>20</td>\n",
              "      <td></td>\n",
              "      <td>15</td>\n",
              "      <td>NaN</td>\n",
              "    </tr>\n",
              "    <tr>\n",
              "      <th>3</th>\n",
              "      <td>玉山林道手作活動(大亞電纜)</td>\n",
              "      <td>2022.03.05</td>\n",
              "      <td>NaN</td>\n",
              "      <td>NaN</td>\n",
              "      <td>NaN</td>\n",
              "      <td>20</td>\n",
              "      <td></td>\n",
              "      <td>17</td>\n",
              "      <td>NaN</td>\n",
              "    </tr>\n",
              "    <tr>\n",
              "      <th>4</th>\n",
              "      <td>B612小行星手作步道體驗（一）</td>\n",
              "      <td>2022.03.12</td>\n",
              "      <td>NaN</td>\n",
              "      <td>NaN</td>\n",
              "      <td>NaN</td>\n",
              "      <td>12-15</td>\n",
              "      <td></td>\n",
              "      <td>2</td>\n",
              "      <td>NaN</td>\n",
              "    </tr>\n",
              "    <tr>\n",
              "      <th>5</th>\n",
              "      <td>B612小行星手作步道體驗（二）</td>\n",
              "      <td>2022.03.20</td>\n",
              "      <td>NaN</td>\n",
              "      <td>NaN</td>\n",
              "      <td>NaN</td>\n",
              "      <td>12-15</td>\n",
              "      <td></td>\n",
              "      <td>2</td>\n",
              "      <td>NaN</td>\n",
              "    </tr>\n",
              "    <tr>\n",
              "      <th>6</th>\n",
              "      <td>基隆步道學戶外實作(暖暖)</td>\n",
              "      <td>2022.05.21</td>\n",
              "      <td>NaN</td>\n",
              "      <td>NaN</td>\n",
              "      <td>NaN</td>\n",
              "      <td></td>\n",
              "      <td></td>\n",
              "      <td>6</td>\n",
              "      <td>NaN</td>\n",
              "    </tr>\n",
              "    <tr>\n",
              "      <th>7</th>\n",
              "      <td>旗美社大高雄山區步道學實作(六龜)</td>\n",
              "      <td>2022.05.29</td>\n",
              "      <td>NaN</td>\n",
              "      <td>NaN</td>\n",
              "      <td>NaN</td>\n",
              "      <td></td>\n",
              "      <td></td>\n",
              "      <td>10</td>\n",
              "      <td>NaN</td>\n",
              "    </tr>\n",
              "  </tbody>\n",
              "</table>\n",
              "</div>\n",
              "      <button class=\"colab-df-convert\" onclick=\"convertToInteractive('df-33e09e7f-ee6d-44cf-9b99-da4fb39758f0')\"\n",
              "              title=\"Convert this dataframe to an interactive table.\"\n",
              "              style=\"display:none;\">\n",
              "        \n",
              "  <svg xmlns=\"http://www.w3.org/2000/svg\" height=\"24px\"viewBox=\"0 0 24 24\"\n",
              "       width=\"24px\">\n",
              "    <path d=\"M0 0h24v24H0V0z\" fill=\"none\"/>\n",
              "    <path d=\"M18.56 5.44l.94 2.06.94-2.06 2.06-.94-2.06-.94-.94-2.06-.94 2.06-2.06.94zm-11 1L8.5 8.5l.94-2.06 2.06-.94-2.06-.94L8.5 2.5l-.94 2.06-2.06.94zm10 10l.94 2.06.94-2.06 2.06-.94-2.06-.94-.94-2.06-.94 2.06-2.06.94z\"/><path d=\"M17.41 7.96l-1.37-1.37c-.4-.4-.92-.59-1.43-.59-.52 0-1.04.2-1.43.59L10.3 9.45l-7.72 7.72c-.78.78-.78 2.05 0 2.83L4 21.41c.39.39.9.59 1.41.59.51 0 1.02-.2 1.41-.59l7.78-7.78 2.81-2.81c.8-.78.8-2.07 0-2.86zM5.41 20L4 18.59l7.72-7.72 1.47 1.35L5.41 20z\"/>\n",
              "  </svg>\n",
              "      </button>\n",
              "      \n",
              "  <style>\n",
              "    .colab-df-container {\n",
              "      display:flex;\n",
              "      flex-wrap:wrap;\n",
              "      gap: 12px;\n",
              "    }\n",
              "\n",
              "    .colab-df-convert {\n",
              "      background-color: #E8F0FE;\n",
              "      border: none;\n",
              "      border-radius: 50%;\n",
              "      cursor: pointer;\n",
              "      display: none;\n",
              "      fill: #1967D2;\n",
              "      height: 32px;\n",
              "      padding: 0 0 0 0;\n",
              "      width: 32px;\n",
              "    }\n",
              "\n",
              "    .colab-df-convert:hover {\n",
              "      background-color: #E2EBFA;\n",
              "      box-shadow: 0px 1px 2px rgba(60, 64, 67, 0.3), 0px 1px 3px 1px rgba(60, 64, 67, 0.15);\n",
              "      fill: #174EA6;\n",
              "    }\n",
              "\n",
              "    [theme=dark] .colab-df-convert {\n",
              "      background-color: #3B4455;\n",
              "      fill: #D2E3FC;\n",
              "    }\n",
              "\n",
              "    [theme=dark] .colab-df-convert:hover {\n",
              "      background-color: #434B5C;\n",
              "      box-shadow: 0px 1px 3px 1px rgba(0, 0, 0, 0.15);\n",
              "      filter: drop-shadow(0px 1px 2px rgba(0, 0, 0, 0.3));\n",
              "      fill: #FFFFFF;\n",
              "    }\n",
              "  </style>\n",
              "\n",
              "      <script>\n",
              "        const buttonEl =\n",
              "          document.querySelector('#df-33e09e7f-ee6d-44cf-9b99-da4fb39758f0 button.colab-df-convert');\n",
              "        buttonEl.style.display =\n",
              "          google.colab.kernel.accessAllowed ? 'block' : 'none';\n",
              "\n",
              "        async function convertToInteractive(key) {\n",
              "          const element = document.querySelector('#df-33e09e7f-ee6d-44cf-9b99-da4fb39758f0');\n",
              "          const dataTable =\n",
              "            await google.colab.kernel.invokeFunction('convertToInteractive',\n",
              "                                                     [key], {});\n",
              "          if (!dataTable) return;\n",
              "\n",
              "          const docLinkHtml = 'Like what you see? Visit the ' +\n",
              "            '<a target=\"_blank\" href=https://colab.research.google.com/notebooks/data_table.ipynb>data table notebook</a>'\n",
              "            + ' to learn more about interactive tables.';\n",
              "          element.innerHTML = '';\n",
              "          dataTable['output_type'] = 'display_data';\n",
              "          await google.colab.output.renderOutput(dataTable, element);\n",
              "          const docLink = document.createElement('div');\n",
              "          docLink.innerHTML = docLinkHtml;\n",
              "          element.appendChild(docLink);\n",
              "        }\n",
              "      </script>\n",
              "    </div>\n",
              "  </div>\n",
              "  "
            ],
            "text/plain": [
              "                活動名稱          日期  天數  合作對象  類型   志工人數 步道名稱  講師助教  備註\n",
              "0        五酒桶山工作假期（一）  2022.01.15 NaN   NaN NaN     20          4 NaN\n",
              "1        五酒桶山工作假期（二）  2022.01.16 NaN   NaN NaN     20          4 NaN\n",
              "2         台大梅峰農場手作步道  2022.02.09 NaN   NaN NaN     20         15 NaN\n",
              "3     玉山林道手作活動(大亞電纜)  2022.03.05 NaN   NaN NaN     20         17 NaN\n",
              "4   B612小行星手作步道體驗（一）  2022.03.12 NaN   NaN NaN  12-15          2 NaN\n",
              "5   B612小行星手作步道體驗（二）  2022.03.20 NaN   NaN NaN  12-15          2 NaN\n",
              "6      基隆步道學戶外實作(暖暖)  2022.05.21 NaN   NaN NaN                 6 NaN\n",
              "7  旗美社大高雄山區步道學實作(六龜)  2022.05.29 NaN   NaN NaN                10 NaN"
            ]
          },
          "metadata": {},
          "execution_count": 17
        }
      ]
    },
    {
      "cell_type": "code",
      "source": [
        "# 重新排序欄位順序\n",
        "col_order = [\"活動名稱\", \"日期\", \"天數\", \"合作對象\", \"類型\", \"志工人數\", \"步道名稱\", \"講師助教\", \"備註\"]\n",
        "df = df[col_order]\n",
        "\n",
        "# 將整理好的資料匯入Google表單\n",
        "新增頁籤名稱名稱 = YEAR+\"(From Colab)\"\n",
        "歷年手作步道統計 = gc.open_by_url(歷年手作步道統計URL)\n",
        "\n",
        "# Creat a new tab if it is not exist already\n",
        "if not any([i.title == 新增頁籤名稱名稱 for i in 歷年手作步道統計.worksheets()]):\n",
        "    歷年手作步道統計.add_worksheet(title=新增頁籤名稱名稱, rows=df.shape[0], cols=df.shape[1])\n",
        "\n",
        "歷年手作步道統計.worksheet(新增頁籤名稱名稱).update([df.columns.values.tolist()] + df.values.tolist())"
      ],
      "metadata": {
        "colab": {
          "base_uri": "https://localhost:8080/",
          "height": 358
        },
        "id": "N7o7NUEswJ-V",
        "outputId": "2c7657a1-7b6a-4fbc-9fd0-296d3a344976"
      },
      "execution_count": null,
      "outputs": [
        {
          "output_type": "error",
          "ename": "APIError",
          "evalue": "ignored",
          "traceback": [
            "\u001b[0;31m---------------------------------------------------------------------------\u001b[0m",
            "\u001b[0;31mAPIError\u001b[0m                                  Traceback (most recent call last)",
            "\u001b[0;32m<ipython-input-20-440f56cdebd6>\u001b[0m in \u001b[0;36m<module>\u001b[0;34m()\u001b[0m\n\u001b[1;32m     11\u001b[0m     \u001b[0m歷年手作步道統計\u001b[0m\u001b[0;34m.\u001b[0m\u001b[0madd_worksheet\u001b[0m\u001b[0;34m(\u001b[0m\u001b[0mtitle\u001b[0m\u001b[0;34m=\u001b[0m\u001b[0m新增頁籤名稱名稱\u001b[0m\u001b[0;34m,\u001b[0m \u001b[0mrows\u001b[0m\u001b[0;34m=\u001b[0m\u001b[0mdf\u001b[0m\u001b[0;34m.\u001b[0m\u001b[0mshape\u001b[0m\u001b[0;34m[\u001b[0m\u001b[0;36m0\u001b[0m\u001b[0;34m]\u001b[0m\u001b[0;34m,\u001b[0m \u001b[0mcols\u001b[0m\u001b[0;34m=\u001b[0m\u001b[0mdf\u001b[0m\u001b[0;34m.\u001b[0m\u001b[0mshape\u001b[0m\u001b[0;34m[\u001b[0m\u001b[0;36m1\u001b[0m\u001b[0;34m]\u001b[0m\u001b[0;34m)\u001b[0m\u001b[0;34m\u001b[0m\u001b[0;34m\u001b[0m\u001b[0m\n\u001b[1;32m     12\u001b[0m \u001b[0;34m\u001b[0m\u001b[0m\n\u001b[0;32m---> 13\u001b[0;31m \u001b[0m歷年手作步道統計\u001b[0m\u001b[0;34m.\u001b[0m\u001b[0mworksheet\u001b[0m\u001b[0;34m(\u001b[0m\u001b[0m新增頁籤名稱名稱\u001b[0m\u001b[0;34m)\u001b[0m\u001b[0;34m.\u001b[0m\u001b[0mupdate\u001b[0m\u001b[0;34m(\u001b[0m\u001b[0;34m[\u001b[0m\u001b[0mdf\u001b[0m\u001b[0;34m.\u001b[0m\u001b[0mcolumns\u001b[0m\u001b[0;34m.\u001b[0m\u001b[0mvalues\u001b[0m\u001b[0;34m.\u001b[0m\u001b[0mtolist\u001b[0m\u001b[0;34m(\u001b[0m\u001b[0;34m)\u001b[0m\u001b[0;34m]\u001b[0m \u001b[0;34m+\u001b[0m \u001b[0mdf\u001b[0m\u001b[0;34m.\u001b[0m\u001b[0mvalues\u001b[0m\u001b[0;34m.\u001b[0m\u001b[0mtolist\u001b[0m\u001b[0;34m(\u001b[0m\u001b[0;34m)\u001b[0m\u001b[0;34m)\u001b[0m\u001b[0;34m\u001b[0m\u001b[0;34m\u001b[0m\u001b[0m\n\u001b[0m",
            "\u001b[0;32m/usr/local/lib/python3.7/dist-packages/gspread/utils.py\u001b[0m in \u001b[0;36mwrapper\u001b[0;34m(*args, **kwargs)\u001b[0m\n\u001b[1;32m    557\u001b[0m                 \u001b[0mkwargs\u001b[0m\u001b[0;34m.\u001b[0m\u001b[0msetdefault\u001b[0m\u001b[0;34m(\u001b[0m\u001b[0mk\u001b[0m\u001b[0;34m,\u001b[0m \u001b[0mv\u001b[0m\u001b[0;34m)\u001b[0m\u001b[0;34m\u001b[0m\u001b[0;34m\u001b[0m\u001b[0m\n\u001b[1;32m    558\u001b[0m \u001b[0;34m\u001b[0m\u001b[0m\n\u001b[0;32m--> 559\u001b[0;31m             \u001b[0;32mreturn\u001b[0m \u001b[0mf\u001b[0m\u001b[0;34m(\u001b[0m\u001b[0;34m*\u001b[0m\u001b[0margs\u001b[0m\u001b[0;34m,\u001b[0m \u001b[0;34m**\u001b[0m\u001b[0mkwargs\u001b[0m\u001b[0;34m)\u001b[0m\u001b[0;34m\u001b[0m\u001b[0;34m\u001b[0m\u001b[0m\n\u001b[0m\u001b[1;32m    560\u001b[0m         \u001b[0;32mreturn\u001b[0m \u001b[0mwrapper\u001b[0m\u001b[0;34m\u001b[0m\u001b[0;34m\u001b[0m\u001b[0m\n\u001b[1;32m    561\u001b[0m     \u001b[0;32mreturn\u001b[0m \u001b[0mdecorate\u001b[0m\u001b[0;34m\u001b[0m\u001b[0;34m\u001b[0m\u001b[0m\n",
            "\u001b[0;32m/usr/local/lib/python3.7/dist-packages/gspread/models.py\u001b[0m in \u001b[0;36mupdate\u001b[0;34m(self, range_name, values, **kwargs)\u001b[0m\n\u001b[1;32m   1125\u001b[0m             body=filter_dict_values({\n\u001b[1;32m   1126\u001b[0m                 \u001b[0;34m'values'\u001b[0m\u001b[0;34m:\u001b[0m \u001b[0mvalues\u001b[0m\u001b[0;34m,\u001b[0m\u001b[0;34m\u001b[0m\u001b[0;34m\u001b[0m\u001b[0m\n\u001b[0;32m-> 1127\u001b[0;31m                 \u001b[0;34m'majorDimension'\u001b[0m\u001b[0;34m:\u001b[0m \u001b[0mkwargs\u001b[0m\u001b[0;34m[\u001b[0m\u001b[0;34m'major_dimension'\u001b[0m\u001b[0;34m]\u001b[0m\u001b[0;34m\u001b[0m\u001b[0;34m\u001b[0m\u001b[0m\n\u001b[0m\u001b[1;32m   1128\u001b[0m             })\n\u001b[1;32m   1129\u001b[0m         )\n",
            "\u001b[0;32m/usr/local/lib/python3.7/dist-packages/gspread/models.py\u001b[0m in \u001b[0;36mvalues_update\u001b[0;34m(self, range, params, body)\u001b[0m\n\u001b[1;32m    239\u001b[0m         \"\"\"\n\u001b[1;32m    240\u001b[0m         \u001b[0murl\u001b[0m \u001b[0;34m=\u001b[0m \u001b[0mSPREADSHEET_VALUES_URL\u001b[0m \u001b[0;34m%\u001b[0m \u001b[0;34m(\u001b[0m\u001b[0mself\u001b[0m\u001b[0;34m.\u001b[0m\u001b[0mid\u001b[0m\u001b[0;34m,\u001b[0m \u001b[0mquote\u001b[0m\u001b[0;34m(\u001b[0m\u001b[0mrange\u001b[0m\u001b[0;34m)\u001b[0m\u001b[0;34m)\u001b[0m\u001b[0;34m\u001b[0m\u001b[0;34m\u001b[0m\u001b[0m\n\u001b[0;32m--> 241\u001b[0;31m         \u001b[0mr\u001b[0m \u001b[0;34m=\u001b[0m \u001b[0mself\u001b[0m\u001b[0;34m.\u001b[0m\u001b[0mclient\u001b[0m\u001b[0;34m.\u001b[0m\u001b[0mrequest\u001b[0m\u001b[0;34m(\u001b[0m\u001b[0;34m'put'\u001b[0m\u001b[0;34m,\u001b[0m \u001b[0murl\u001b[0m\u001b[0;34m,\u001b[0m \u001b[0mparams\u001b[0m\u001b[0;34m=\u001b[0m\u001b[0mparams\u001b[0m\u001b[0;34m,\u001b[0m \u001b[0mjson\u001b[0m\u001b[0;34m=\u001b[0m\u001b[0mbody\u001b[0m\u001b[0;34m)\u001b[0m\u001b[0;34m\u001b[0m\u001b[0;34m\u001b[0m\u001b[0m\n\u001b[0m\u001b[1;32m    242\u001b[0m         \u001b[0;32mreturn\u001b[0m \u001b[0mr\u001b[0m\u001b[0;34m.\u001b[0m\u001b[0mjson\u001b[0m\u001b[0;34m(\u001b[0m\u001b[0;34m)\u001b[0m\u001b[0;34m\u001b[0m\u001b[0;34m\u001b[0m\u001b[0m\n\u001b[1;32m    243\u001b[0m \u001b[0;34m\u001b[0m\u001b[0m\n",
            "\u001b[0;32m/usr/local/lib/python3.7/dist-packages/gspread/client.py\u001b[0m in \u001b[0;36mrequest\u001b[0;34m(self, method, endpoint, params, data, json, files, headers)\u001b[0m\n\u001b[1;32m     71\u001b[0m             \u001b[0;32mreturn\u001b[0m \u001b[0mresponse\u001b[0m\u001b[0;34m\u001b[0m\u001b[0;34m\u001b[0m\u001b[0m\n\u001b[1;32m     72\u001b[0m         \u001b[0;32melse\u001b[0m\u001b[0;34m:\u001b[0m\u001b[0;34m\u001b[0m\u001b[0;34m\u001b[0m\u001b[0m\n\u001b[0;32m---> 73\u001b[0;31m             \u001b[0;32mraise\u001b[0m \u001b[0mAPIError\u001b[0m\u001b[0;34m(\u001b[0m\u001b[0mresponse\u001b[0m\u001b[0;34m)\u001b[0m\u001b[0;34m\u001b[0m\u001b[0;34m\u001b[0m\u001b[0m\n\u001b[0m\u001b[1;32m     74\u001b[0m \u001b[0;34m\u001b[0m\u001b[0m\n\u001b[1;32m     75\u001b[0m     \u001b[0;32mdef\u001b[0m \u001b[0mlist_spreadsheet_files\u001b[0m\u001b[0;34m(\u001b[0m\u001b[0mself\u001b[0m\u001b[0;34m,\u001b[0m \u001b[0mtitle\u001b[0m\u001b[0;34m=\u001b[0m\u001b[0;32mNone\u001b[0m\u001b[0;34m)\u001b[0m\u001b[0;34m:\u001b[0m\u001b[0;34m\u001b[0m\u001b[0;34m\u001b[0m\u001b[0m\n",
            "\u001b[0;31mAPIError\u001b[0m: {'code': 400, 'message': 'Invalid JSON payload received. Unexpected token.\\nf09\", \"2022.01.15\", NaN, NaN, NaN, \"20\",\\n                    ^', 'status': 'INVALID_ARGUMENT'}"
          ]
        }
      ]
    },
    {
      "cell_type": "markdown",
      "source": [
        "## B. 條列所有參與過的步道"
      ],
      "metadata": {
        "id": "8-AmOk3hqbrL"
      }
    },
    {
      "cell_type": "code",
      "source": [
        "# Read data\n",
        "df_trail_google = gc.open_by_url(手作步道場次URL)\n",
        "values = df_trail_google.worksheet(\"國內\").get_all_values()\n",
        "df_trail = pd.DataFrame(values[1:], columns=values[0])\n",
        "df_trail['test'] = 0\n",
        "\n",
        "# Creat a new tab if it is not exist already\n",
        "新增頁籤名稱名稱 = \"test1\"\n",
        "if not any([i.title == 新增頁籤名稱名稱 for i in df_trail_google.worksheets()]):\n",
        "    df_trail_google.add_worksheet(title=新增頁籤名稱名稱, rows=df_trail.shape[0], cols=df_trail.shape[1])\n",
        "\n",
        "df_trail_google.worksheet(新增頁籤名稱名稱).update([df_trail.columns.values.tolist()] + df_trail.values.tolist())"
      ],
      "metadata": {
        "colab": {
          "base_uri": "https://localhost:8080/"
        },
        "id": "bhLirjTMoaiv",
        "outputId": "1cb1e64f-2145-46c6-8001-1b39299c72db"
      },
      "execution_count": null,
      "outputs": [
        {
          "output_type": "execute_result",
          "data": {
            "text/plain": [
              "{'spreadsheetId': '1hwqmNHHhY7mFW53FyZdHpfMRy5wnP_T0RPdf_TTabXI',\n",
              " 'updatedCells': 1216,\n",
              " 'updatedColumns': 8,\n",
              " 'updatedRange': 'test1!A1:H152',\n",
              " 'updatedRows': 152}"
            ]
          },
          "metadata": {},
          "execution_count": 32
        }
      ]
    },
    {
      "cell_type": "markdown",
      "source": [
        "## C. 統計步道師實習時數\n",
        "移除志工重複填寫之時數\n",
        "1. 檢查名字無空白或其他符號\n",
        "2. 若同一志工、同一日期且同一參與內容，則僅保留一列(Row)"
      ],
      "metadata": {
        "id": "kyvUOB-uP6SL"
      }
    },
    {
      "cell_type": "markdown",
      "source": [
        "##### Reference\n",
        "1. 志工時數登錄表表單: https://docs.google.com/forms/d/1wjXEwwIEZFFRUzgn4FoXTt3T2AQf_m_wES6E7hiRKVw/edit\n",
        "2. 步道志工時數登錄表: https://docs.google.com/spreadsheets/d/1BVJiIiRIXodp-rVjRePDKwrQv9slWkTk07dUiS-eLAU/edit#gid=1\n",
        "3. 助教人力需求表: https://docs.google.com/spreadsheets/d/1lwqKHL3214o3DD-stVLfGMRBfzknQa5CKKKH_pBOZ0c/edit#gid=39001012\n"
      ],
      "metadata": {
        "id": "qNxBvSngEjED"
      }
    },
    {
      "cell_type": "markdown",
      "source": [
        "##### Issue Log\n",
        "1. 步道志工時數登錄表worksheet \"步道志工資料庫\"中 欄位\"服務時數\" 與 \"服務時數統計\"互相衝突\n",
        "2. 若一志工重複填寫，但時數上有差異，應取最大值 or 最小值?\n",
        "3. 發現部分資料填寫日期格式錯誤，例: 2020/08/07-09；建議在表單日期加入\"僅填寫1日日期，若連續多日請重新填寫表單\"之相關說明\n"
      ],
      "metadata": {
        "id": "_XPLjiGQPBBp"
      }
    },
    {
      "cell_type": "markdown",
      "source": [
        "### 1. 資料匯入 & 資料清理"
      ],
      "metadata": {
        "id": "q3vAwFdjaG27"
      }
    },
    {
      "cell_type": "code",
      "source": [
        "# Import worksheet\n",
        "步道志工 = gc.open_by_url(步道志工URL)\n",
        "步道志工資料庫 = 步道志工.worksheet('步道志工資料庫')\n",
        "志工時數登錄表 = 步道志工.worksheet('志工時數登錄表')\n",
        "\n",
        "# Transform to dataframe\n",
        "步道志工資料庫 = 步道志工資料庫.get_all_values()\n",
        "步道志工資料庫 = pd.DataFrame(步道志工資料庫[1:], columns=步道志工資料庫[0])\n",
        "\n",
        "志工時數登錄表 = 志工時數登錄表.get_all_values()\n",
        "志工時數登錄表 = pd.DataFrame(志工時數登錄表[1:], columns=志工時數登錄表[0])"
      ],
      "metadata": {
        "id": "MA2MZMqzFtOa"
      },
      "execution_count": null,
      "outputs": []
    },
    {
      "cell_type": "code",
      "source": [
        "志工時數登錄表.head(3)"
      ],
      "metadata": {
        "colab": {
          "base_uri": "https://localhost:8080/",
          "height": 142
        },
        "id": "sMep-wBWHJMS",
        "outputId": "394f29a2-4285-4915-f93e-76194f27435c"
      },
      "execution_count": null,
      "outputs": [
        {
          "output_type": "execute_result",
          "data": {
            "text/html": [
              "\n",
              "  <div id=\"df-41e2dcc8-40ec-4a43-854e-0f4c2acef4f4\">\n",
              "    <div class=\"colab-df-container\">\n",
              "      <div>\n",
              "<style scoped>\n",
              "    .dataframe tbody tr th:only-of-type {\n",
              "        vertical-align: middle;\n",
              "    }\n",
              "\n",
              "    .dataframe tbody tr th {\n",
              "        vertical-align: top;\n",
              "    }\n",
              "\n",
              "    .dataframe thead th {\n",
              "        text-align: right;\n",
              "    }\n",
              "</style>\n",
              "<table border=\"1\" class=\"dataframe\">\n",
              "  <thead>\n",
              "    <tr style=\"text-align: right;\">\n",
              "      <th></th>\n",
              "      <th>時間戳記</th>\n",
              "      <th>志工姓名</th>\n",
              "      <th>服務日期</th>\n",
              "      <th>參與內容</th>\n",
              "      <th>服務地點</th>\n",
              "      <th>參與時數</th>\n",
              "    </tr>\n",
              "  </thead>\n",
              "  <tbody>\n",
              "    <tr>\n",
              "      <th>0</th>\n",
              "      <td>2016/3/10 上午 8:30:04</td>\n",
              "      <td>江逸婷</td>\n",
              "      <td>2016/3/5</td>\n",
              "      <td>協助步道的施做帶領</td>\n",
              "      <td>南澳金岳部落</td>\n",
              "      <td>8</td>\n",
              "    </tr>\n",
              "    <tr>\n",
              "      <th>1</th>\n",
              "      <td>2016/6/8 下午 6:56:02</td>\n",
              "      <td>張隆漢</td>\n",
              "      <td>2016/5/28</td>\n",
              "      <td>文山社大海巡署支線步道實作助教</td>\n",
              "      <td>文山區景美山海巡署支線</td>\n",
              "      <td>8</td>\n",
              "    </tr>\n",
              "    <tr>\n",
              "      <th>2</th>\n",
              "      <td>2016/6/16 下午 4:47:30</td>\n",
              "      <td>高輔霖</td>\n",
              "      <td>2016/5/21</td>\n",
              "      <td>步道實作帶領</td>\n",
              "      <td>景美山</td>\n",
              "      <td>8</td>\n",
              "    </tr>\n",
              "  </tbody>\n",
              "</table>\n",
              "</div>\n",
              "      <button class=\"colab-df-convert\" onclick=\"convertToInteractive('df-41e2dcc8-40ec-4a43-854e-0f4c2acef4f4')\"\n",
              "              title=\"Convert this dataframe to an interactive table.\"\n",
              "              style=\"display:none;\">\n",
              "        \n",
              "  <svg xmlns=\"http://www.w3.org/2000/svg\" height=\"24px\"viewBox=\"0 0 24 24\"\n",
              "       width=\"24px\">\n",
              "    <path d=\"M0 0h24v24H0V0z\" fill=\"none\"/>\n",
              "    <path d=\"M18.56 5.44l.94 2.06.94-2.06 2.06-.94-2.06-.94-.94-2.06-.94 2.06-2.06.94zm-11 1L8.5 8.5l.94-2.06 2.06-.94-2.06-.94L8.5 2.5l-.94 2.06-2.06.94zm10 10l.94 2.06.94-2.06 2.06-.94-2.06-.94-.94-2.06-.94 2.06-2.06.94z\"/><path d=\"M17.41 7.96l-1.37-1.37c-.4-.4-.92-.59-1.43-.59-.52 0-1.04.2-1.43.59L10.3 9.45l-7.72 7.72c-.78.78-.78 2.05 0 2.83L4 21.41c.39.39.9.59 1.41.59.51 0 1.02-.2 1.41-.59l7.78-7.78 2.81-2.81c.8-.78.8-2.07 0-2.86zM5.41 20L4 18.59l7.72-7.72 1.47 1.35L5.41 20z\"/>\n",
              "  </svg>\n",
              "      </button>\n",
              "      \n",
              "  <style>\n",
              "    .colab-df-container {\n",
              "      display:flex;\n",
              "      flex-wrap:wrap;\n",
              "      gap: 12px;\n",
              "    }\n",
              "\n",
              "    .colab-df-convert {\n",
              "      background-color: #E8F0FE;\n",
              "      border: none;\n",
              "      border-radius: 50%;\n",
              "      cursor: pointer;\n",
              "      display: none;\n",
              "      fill: #1967D2;\n",
              "      height: 32px;\n",
              "      padding: 0 0 0 0;\n",
              "      width: 32px;\n",
              "    }\n",
              "\n",
              "    .colab-df-convert:hover {\n",
              "      background-color: #E2EBFA;\n",
              "      box-shadow: 0px 1px 2px rgba(60, 64, 67, 0.3), 0px 1px 3px 1px rgba(60, 64, 67, 0.15);\n",
              "      fill: #174EA6;\n",
              "    }\n",
              "\n",
              "    [theme=dark] .colab-df-convert {\n",
              "      background-color: #3B4455;\n",
              "      fill: #D2E3FC;\n",
              "    }\n",
              "\n",
              "    [theme=dark] .colab-df-convert:hover {\n",
              "      background-color: #434B5C;\n",
              "      box-shadow: 0px 1px 3px 1px rgba(0, 0, 0, 0.15);\n",
              "      filter: drop-shadow(0px 1px 2px rgba(0, 0, 0, 0.3));\n",
              "      fill: #FFFFFF;\n",
              "    }\n",
              "  </style>\n",
              "\n",
              "      <script>\n",
              "        const buttonEl =\n",
              "          document.querySelector('#df-41e2dcc8-40ec-4a43-854e-0f4c2acef4f4 button.colab-df-convert');\n",
              "        buttonEl.style.display =\n",
              "          google.colab.kernel.accessAllowed ? 'block' : 'none';\n",
              "\n",
              "        async function convertToInteractive(key) {\n",
              "          const element = document.querySelector('#df-41e2dcc8-40ec-4a43-854e-0f4c2acef4f4');\n",
              "          const dataTable =\n",
              "            await google.colab.kernel.invokeFunction('convertToInteractive',\n",
              "                                                     [key], {});\n",
              "          if (!dataTable) return;\n",
              "\n",
              "          const docLinkHtml = 'Like what you see? Visit the ' +\n",
              "            '<a target=\"_blank\" href=https://colab.research.google.com/notebooks/data_table.ipynb>data table notebook</a>'\n",
              "            + ' to learn more about interactive tables.';\n",
              "          element.innerHTML = '';\n",
              "          dataTable['output_type'] = 'display_data';\n",
              "          await google.colab.output.renderOutput(dataTable, element);\n",
              "          const docLink = document.createElement('div');\n",
              "          docLink.innerHTML = docLinkHtml;\n",
              "          element.appendChild(docLink);\n",
              "        }\n",
              "      </script>\n",
              "    </div>\n",
              "  </div>\n",
              "  "
            ],
            "text/plain": [
              "                   時間戳記 志工姓名       服務日期             參與內容         服務地點 參與時數\n",
              "0  2016/3/10 上午 8:30:04  江逸婷   2016/3/5        協助步道的施做帶領       南澳金岳部落    8\n",
              "1   2016/6/8 下午 6:56:02  張隆漢  2016/5/28  文山社大海巡署支線步道實作助教  文山區景美山海巡署支線    8\n",
              "2  2016/6/16 下午 4:47:30  高輔霖  2016/5/21           步道實作帶領          景美山    8"
            ]
          },
          "metadata": {},
          "execution_count": 62
        }
      ]
    },
    {
      "cell_type": "code",
      "source": [
        "# 欄位 \"志工姓名\" 清理\n",
        "\n",
        "# 建立函式移除空白或其他符號\n",
        "def name_cleaning(name):\n",
        "  # remove spaces\n",
        "  name = name.replace(' ', '')\n",
        "  # remove special characters\n",
        "  name = ''.join(i for i in name if i not in string.punctuation)\n",
        "  # remove numbers\n",
        "  name = ''.join(i for i in name if not i.isdigit())\n",
        "  return name\n",
        "\n",
        "志工時數登錄表['志工姓名'] = 志工時數登錄表['志工姓名'].apply(name_cleaning)\n",
        "\n",
        "\n",
        "# 測試資料\n",
        "# test = pd.DataFrame({'志工姓名': ['王小明 ', ' 王@%小明_134', '_王小明.>@']})\n",
        "# print(test['志工姓名'].apply(name_cleaning))\n",
        "# del test"
      ],
      "metadata": {
        "id": "qqLc3swsPyeJ"
      },
      "execution_count": null,
      "outputs": []
    },
    {
      "cell_type": "code",
      "source": [
        "# 欄位 \"參與時數\" 清理\n",
        "\n",
        "# 建立函式移除非數值之字符\n",
        "def hours_cleaning(hours):\n",
        "  # Only remain numbers\n",
        "  hours = ''.join(i for i in hours if i.isdigit())\n",
        "  if hours.isdigit():\n",
        "    return hours\n",
        "  \n",
        "  else:\n",
        "    # if no numbers in the cell then return 0 hrs\n",
        "    return '0' \n",
        "\n",
        "志工時數登錄表['參與時數'] = 志工時數登錄表['參與時數'].apply(hours_cleaning)"
      ],
      "metadata": {
        "id": "zOKhGZqqmja4"
      },
      "execution_count": null,
      "outputs": []
    },
    {
      "cell_type": "code",
      "source": [
        "# 欄位 \"服務日期\" 清理\n",
        "\n",
        "# 手動修改row（後續牽扯邏輯較複雜；建議添加表單填寫格式限制）\n",
        "志工時數登錄表.loc[102, '服務日期'] = '2017/5/6/2017/5/7' # 2017/5/6~20175/7\n",
        "志工時數登錄表.loc[571, '服務日期'] = '2022/05/09' # 20220/05/09\n",
        "志工時數登錄表.loc[365, '服務日期'] = '2019/9/7-8' # 林2019/9/7-8\n",
        "志工時數登錄表.loc[275, '服務日期'] = '2018/9/22/23' # 2018/9/22 23\n",
        "志工時數登錄表.loc[293, '服務日期'] = '2018/09/21-09/23' # 2018/0921-0923\n",
        "志工時數登錄表.loc[567, '服務日期'] = '2020/07/11' # 2020/0711\n",
        "志工時數登錄表.loc[599, '服務日期'] = '2020/05/16' # 2020/05/116\n",
        "志工時數登錄表.loc[633, '服務日期'] = '2020/09/26-27' # 2020/0926-27\n",
        "志工時數登錄表.loc[786, '服務日期'] = '2021/8/24-25' # 2021/824-25\n",
        "志工時數登錄表.loc[938, '服務日期'] = '2022/01/23' # 2022/01/233\n",
        "\n",
        "志工時數登錄表.loc[780, '服務日期'] = '2021/8/29-31' # 2021/8/29,30,31\n",
        "\n",
        "\n",
        "# 建立函式將特殊字符統一轉換為'/'\n",
        "def date_cleaning(date):\n",
        "  # Remove leading spaces\n",
        "  date = date.lstrip(' ')\n",
        "  # transform special characters to '/'\n",
        "  specialchars = \"~-～／.,、_\" \n",
        "  for specialchar in specialchars:\n",
        "    date = date.replace(specialchar, '/')\n",
        "  return date\n",
        "\n",
        "志工時數登錄表['服務日期'] = 志工時數登錄表['服務日期'].apply(date_cleaning)"
      ],
      "metadata": {
        "id": "vFVW6QSb0fEN"
      },
      "execution_count": null,
      "outputs": []
    },
    {
      "cell_type": "markdown",
      "source": [
        "### 2. 修改DataFrame以讓每列(Row)資料僅包含一天資訊"
      ],
      "metadata": {
        "id": "uh4_I-JscFfl"
      }
    },
    {
      "cell_type": "code",
      "source": [
        "temp = 志工時數登錄表.服務日期.str.split('/', expand=True)\n",
        "temp, temp1 = temp.loc[:, 1], temp.loc[:, [0, 2, 3, 4, 5]]\n",
        "# temp.rename(columns={1: 'date2'}, inplace=True)\n",
        "\n",
        "# 建立函式移除重複之日期\n",
        "def remove_date_duplicates(date):\n",
        "  date = list(dict.fromkeys(date))\n",
        "  return date\n",
        "\n",
        "temp1 = pd.DataFrame({'date': temp1.apply(remove_date_duplicates, axis=1)})\n",
        "\n",
        "temp1 = pd.DataFrame(temp1['date'].to_list(), columns=['date1', 'date3', 'date4', 'date5', 'date6'])\n",
        "temp1.insert(1, \"date2\", temp)\n",
        "temp = temp1.fillna(0).astype(int)\n",
        "\n",
        "# 國曆轉西曆\n",
        "trans_calen_index = temp[(temp['date1'].astype(str).map(len)) == 3].index.values.astype(int)\n",
        "temp.loc[trans_calen_index, 'date1'] = temp.loc[trans_calen_index, 'date1'] + 1911\n",
        "志工時數登錄表.loc[trans_calen_index, '服務日期'] = temp.loc[trans_calen_index, ['date1', 'date2', 'date3']].astype(str).agg('/'.join, axis=1)"
      ],
      "metadata": {
        "id": "mVO_4VydvKLl"
      },
      "execution_count": null,
      "outputs": []
    },
    {
      "cell_type": "code",
      "source": [
        "temp.loc[[21, 51, 102, 211], :]"
      ],
      "metadata": {
        "colab": {
          "base_uri": "https://localhost:8080/",
          "height": 173
        },
        "id": "YMqkHBGvvBC3",
        "outputId": "6a78d26c-3900-4ec3-ada2-7302cb5339dd"
      },
      "execution_count": null,
      "outputs": [
        {
          "output_type": "execute_result",
          "data": {
            "text/html": [
              "\n",
              "  <div id=\"df-4d79c192-652d-43e3-b09c-48808aa44bc9\">\n",
              "    <div class=\"colab-df-container\">\n",
              "      <div>\n",
              "<style scoped>\n",
              "    .dataframe tbody tr th:only-of-type {\n",
              "        vertical-align: middle;\n",
              "    }\n",
              "\n",
              "    .dataframe tbody tr th {\n",
              "        vertical-align: top;\n",
              "    }\n",
              "\n",
              "    .dataframe thead th {\n",
              "        text-align: right;\n",
              "    }\n",
              "</style>\n",
              "<table border=\"1\" class=\"dataframe\">\n",
              "  <thead>\n",
              "    <tr style=\"text-align: right;\">\n",
              "      <th></th>\n",
              "      <th>date1</th>\n",
              "      <th>date2</th>\n",
              "      <th>date3</th>\n",
              "      <th>date4</th>\n",
              "      <th>date5</th>\n",
              "      <th>date6</th>\n",
              "    </tr>\n",
              "  </thead>\n",
              "  <tbody>\n",
              "    <tr>\n",
              "      <th>21</th>\n",
              "      <td>2016</td>\n",
              "      <td>10</td>\n",
              "      <td>8</td>\n",
              "      <td>10</td>\n",
              "      <td>9</td>\n",
              "      <td>0</td>\n",
              "    </tr>\n",
              "    <tr>\n",
              "      <th>51</th>\n",
              "      <td>2016</td>\n",
              "      <td>12</td>\n",
              "      <td>2</td>\n",
              "      <td>3</td>\n",
              "      <td>0</td>\n",
              "      <td>0</td>\n",
              "    </tr>\n",
              "    <tr>\n",
              "      <th>102</th>\n",
              "      <td>2017</td>\n",
              "      <td>5</td>\n",
              "      <td>6</td>\n",
              "      <td>5</td>\n",
              "      <td>7</td>\n",
              "      <td>0</td>\n",
              "    </tr>\n",
              "    <tr>\n",
              "      <th>211</th>\n",
              "      <td>2018</td>\n",
              "      <td>4</td>\n",
              "      <td>27</td>\n",
              "      <td>5</td>\n",
              "      <td>1</td>\n",
              "      <td>0</td>\n",
              "    </tr>\n",
              "  </tbody>\n",
              "</table>\n",
              "</div>\n",
              "      <button class=\"colab-df-convert\" onclick=\"convertToInteractive('df-4d79c192-652d-43e3-b09c-48808aa44bc9')\"\n",
              "              title=\"Convert this dataframe to an interactive table.\"\n",
              "              style=\"display:none;\">\n",
              "        \n",
              "  <svg xmlns=\"http://www.w3.org/2000/svg\" height=\"24px\"viewBox=\"0 0 24 24\"\n",
              "       width=\"24px\">\n",
              "    <path d=\"M0 0h24v24H0V0z\" fill=\"none\"/>\n",
              "    <path d=\"M18.56 5.44l.94 2.06.94-2.06 2.06-.94-2.06-.94-.94-2.06-.94 2.06-2.06.94zm-11 1L8.5 8.5l.94-2.06 2.06-.94-2.06-.94L8.5 2.5l-.94 2.06-2.06.94zm10 10l.94 2.06.94-2.06 2.06-.94-2.06-.94-.94-2.06-.94 2.06-2.06.94z\"/><path d=\"M17.41 7.96l-1.37-1.37c-.4-.4-.92-.59-1.43-.59-.52 0-1.04.2-1.43.59L10.3 9.45l-7.72 7.72c-.78.78-.78 2.05 0 2.83L4 21.41c.39.39.9.59 1.41.59.51 0 1.02-.2 1.41-.59l7.78-7.78 2.81-2.81c.8-.78.8-2.07 0-2.86zM5.41 20L4 18.59l7.72-7.72 1.47 1.35L5.41 20z\"/>\n",
              "  </svg>\n",
              "      </button>\n",
              "      \n",
              "  <style>\n",
              "    .colab-df-container {\n",
              "      display:flex;\n",
              "      flex-wrap:wrap;\n",
              "      gap: 12px;\n",
              "    }\n",
              "\n",
              "    .colab-df-convert {\n",
              "      background-color: #E8F0FE;\n",
              "      border: none;\n",
              "      border-radius: 50%;\n",
              "      cursor: pointer;\n",
              "      display: none;\n",
              "      fill: #1967D2;\n",
              "      height: 32px;\n",
              "      padding: 0 0 0 0;\n",
              "      width: 32px;\n",
              "    }\n",
              "\n",
              "    .colab-df-convert:hover {\n",
              "      background-color: #E2EBFA;\n",
              "      box-shadow: 0px 1px 2px rgba(60, 64, 67, 0.3), 0px 1px 3px 1px rgba(60, 64, 67, 0.15);\n",
              "      fill: #174EA6;\n",
              "    }\n",
              "\n",
              "    [theme=dark] .colab-df-convert {\n",
              "      background-color: #3B4455;\n",
              "      fill: #D2E3FC;\n",
              "    }\n",
              "\n",
              "    [theme=dark] .colab-df-convert:hover {\n",
              "      background-color: #434B5C;\n",
              "      box-shadow: 0px 1px 3px 1px rgba(0, 0, 0, 0.15);\n",
              "      filter: drop-shadow(0px 1px 2px rgba(0, 0, 0, 0.3));\n",
              "      fill: #FFFFFF;\n",
              "    }\n",
              "  </style>\n",
              "\n",
              "      <script>\n",
              "        const buttonEl =\n",
              "          document.querySelector('#df-4d79c192-652d-43e3-b09c-48808aa44bc9 button.colab-df-convert');\n",
              "        buttonEl.style.display =\n",
              "          google.colab.kernel.accessAllowed ? 'block' : 'none';\n",
              "\n",
              "        async function convertToInteractive(key) {\n",
              "          const element = document.querySelector('#df-4d79c192-652d-43e3-b09c-48808aa44bc9');\n",
              "          const dataTable =\n",
              "            await google.colab.kernel.invokeFunction('convertToInteractive',\n",
              "                                                     [key], {});\n",
              "          if (!dataTable) return;\n",
              "\n",
              "          const docLinkHtml = 'Like what you see? Visit the ' +\n",
              "            '<a target=\"_blank\" href=https://colab.research.google.com/notebooks/data_table.ipynb>data table notebook</a>'\n",
              "            + ' to learn more about interactive tables.';\n",
              "          element.innerHTML = '';\n",
              "          dataTable['output_type'] = 'display_data';\n",
              "          await google.colab.output.renderOutput(dataTable, element);\n",
              "          const docLink = document.createElement('div');\n",
              "          docLink.innerHTML = docLinkHtml;\n",
              "          element.appendChild(docLink);\n",
              "        }\n",
              "      </script>\n",
              "    </div>\n",
              "  </div>\n",
              "  "
            ],
            "text/plain": [
              "     date1  date2  date3  date4  date5  date6\n",
              "21    2016     10      8     10      9      0\n",
              "51    2016     12      2      3      0      0\n",
              "102   2017      5      6      5      7      0\n",
              "211   2018      4     27      5      1      0"
            ]
          },
          "metadata": {},
          "execution_count": 67
        }
      ]
    },
    {
      "cell_type": "code",
      "source": [
        "# 將欄位 \"服務日期\" 有跨天數之單一Row，修改為多個Rows(每一Row僅包含一天資訊)\n",
        "\n",
        "# 針對日期不同\n",
        "# Create a dataframe to record start and end date\n",
        "day_diff_index = temp[(temp['date4'] != 0) & (temp['date5'] == 0)].index.values.astype(int)\n",
        "temp2 = pd.DataFrame()\n",
        "temp2['date_start'] = temp.loc[day_diff_index, ['date1', 'date2', 'date3']].astype(str).agg('/'.join, axis=1)\n",
        "temp2['date_end'] = temp.loc[day_diff_index, ['date1', 'date2', 'date4']].astype(str).agg('/'.join, axis=1)\n",
        "temp2['date_start'] = pd.to_datetime(temp2['date_start'])\n",
        "temp2['date_end'] = pd.to_datetime(temp2['date_end'])\n",
        "\n",
        "\n",
        "for i in day_diff_index:\n",
        "  day = abs(temp2.loc[i, 'date_start'] - temp2.loc[i, 'date_end']).days\n",
        "  date_record = copy.deepcopy(temp2.loc[i, 'date_start'])\n",
        "  志工時數登錄表.loc[i, '服務日期'] = temp2.loc[i, 'date_start']\n",
        "  志工時數登錄表.loc[i, '參與時數'] = (float(志工時數登錄表.loc[i, '參與時數']) / (day + 1))\n",
        "  # Create rows\n",
        "  row_copy = copy.deepcopy(pd.Series(志工時數登錄表.loc[i, :]))\n",
        "  \n",
        "  for j in range(day):\n",
        "    date_record += timedelta(days=1)\n",
        "    row_copy['服務日期'] = date_record\n",
        "    志工時數登錄表 = 志工時數登錄表.append(row_copy, ignore_index=True)\n"
      ],
      "metadata": {
        "id": "j-bigzcCDyyU"
      },
      "execution_count": null,
      "outputs": []
    },
    {
      "cell_type": "code",
      "source": [
        "# 針對 月份 & 日期不同\n",
        "\n",
        "# Create a dataframe to record start and end date\n",
        "month_day_diff_index = temp[temp['date5'] != 0].index.values.astype(int)\n",
        "temp3 = pd.DataFrame()\n",
        "temp3['date_start'] = temp.loc[month_day_diff_index, ['date1', 'date2', 'date3']].astype(str).agg('/'.join, axis=1)\n",
        "temp3['date_end'] = temp.loc[month_day_diff_index, ['date1', 'date4', 'date5']].astype(str).agg('/'.join, axis=1)\n",
        "temp3['date_start'] = pd.to_datetime(temp3['date_start'])\n",
        "temp3['date_end'] = pd.to_datetime(temp3['date_end'])\n",
        "\n",
        "for i in month_day_diff_index:\n",
        "  day = abs(temp3.loc[i, 'date_start'] - temp3.loc[i, 'date_end']).days\n",
        "  date_record = copy.deepcopy(temp3.loc[i, 'date_start'])\n",
        "  志工時數登錄表.loc[i, '服務日期'] = temp3.loc[i, 'date_start']\n",
        "  志工時數登錄表.loc[i, '參與時數'] = (float(志工時數登錄表.loc[i, '參與時數']) / (day + 1))\n",
        "  # Create rows\n",
        "  row_copy = copy.deepcopy(pd.Series(志工時數登錄表.loc[i, :]))\n",
        "  \n",
        "  for j in range(day):\n",
        "    date_record += timedelta(days=1)\n",
        "    row_copy['服務日期'] = date_record\n",
        "    志工時數登錄表 = 志工時數登錄表.append(row_copy, ignore_index=True)"
      ],
      "metadata": {
        "id": "UFuVj5MPnQ8b"
      },
      "execution_count": null,
      "outputs": []
    },
    {
      "cell_type": "markdown",
      "source": [
        "### 3. 移除重複資料"
      ],
      "metadata": {
        "id": "TU3bTvjGDdGJ"
      }
    },
    {
      "cell_type": "code",
      "source": [
        "# 統一將欄位 \"服務日期\" 調整為datetime格式\n",
        "\n",
        "志工時數登錄表['服務日期'] = pd.to_datetime(志工時數登錄表['服務日期'])"
      ],
      "metadata": {
        "id": "PoQvOxOBVm47"
      },
      "execution_count": null,
      "outputs": []
    },
    {
      "cell_type": "code",
      "source": [
        "# 若同一志工、同一日期且同一參與內容，則僅保留一列(Row)\n",
        "\n",
        "# Show duplicate rows\n",
        "print(志工時數登錄表.loc[志工時數登錄表.duplicated(subset=['志工姓名', '服務日期', '參與內容'], keep=False), \n",
        "                  ['志工姓名', '服務日期', '參與內容', '服務地點', '參與時數']].sort_values(['志工姓名', '服務日期']))\n",
        "\n",
        "# Remove duplicate rows\n",
        "志工時數登錄表.drop_duplicates(subset=['志工姓名', '服務日期', '參與內容'], keep='first', inplace=True)\n",
        "\n",
        "# 將日期轉成字串形式，解決TypeError: Object of type Timestamp is not JSON serializable\n",
        "志工時數登錄表['服務日期'] = 志工時數登錄表['服務日期'].astype(str)\n",
        "print(志工時數登錄表.shape)"
      ],
      "metadata": {
        "colab": {
          "base_uri": "https://localhost:8080/"
        },
        "id": "KUX0SAv8Wtaj",
        "outputId": "b64525a4-75b0-41bd-c2bc-ad82f2b2393f"
      },
      "execution_count": null,
      "outputs": [
        {
          "output_type": "stream",
          "name": "stdout",
          "text": [
            "     志工姓名       服務日期     參與內容             服務地點 參與時數\n",
            "94    吳清地 2017-03-19   步道實作帶領             澀水社區    8\n",
            "140   吳清地 2017-03-19   步道實作帶領             澀水社區    8\n",
            "98    吳清地 2017-03-28   步道實作帶領          嘉明湖國家步道    4\n",
            "99    吳清地 2017-03-28   步道實作帶領          嘉明湖國家步道    4\n",
            "100   吳清地 2017-05-13   步道實作帶領         大坑5-1號步道    8\n",
            "...   ...        ...      ...              ...  ...\n",
            "709   陳秋坤 2020-12-27   步道實作帶領           新竹石崀古道    8\n",
            "774   魏薏娟 2021-08-14  步道調查、勘查  東光社區(翠林/水社兩條步道)  4.0\n",
            "775   魏薏娟 2021-08-14  步道調查、勘查      東光社區(翠林/水社)  4.0\n",
            "1101  魏薏娟 2021-08-15  步道調查、勘查  東光社區(翠林/水社兩條步道)  4.0\n",
            "1102  魏薏娟 2021-08-15  步道調查、勘查      東光社區(翠林/水社)  4.0\n",
            "\n",
            "[87 rows x 5 columns]\n",
            "(1225, 6)\n",
            "(1181, 6)\n"
          ]
        }
      ]
    },
    {
      "cell_type": "code",
      "source": [
        "# 將整理好的資料匯入Google表單\n",
        "新增頁籤名稱名稱 = \"志工時數登錄表(From Colab)\"\n",
        "\n",
        "# Creat a new tab if it is not exist already\n",
        "\n",
        "if not any([i.title == 新增頁籤名稱名稱 for i in 步道志工.worksheets()]):\n",
        "    步道志工.add_worksheet(title=新增頁籤名稱名稱, rows=志工時數登錄表.shape[0], cols=志工時數登錄表.shape[1])\n",
        "\n",
        "步道志工.worksheet(新增頁籤名稱名稱).update([志工時數登錄表.columns.values.tolist()] + 志工時數登錄表.values.tolist())"
      ],
      "metadata": {
        "id": "AVe7wnAOWn-V",
        "colab": {
          "base_uri": "https://localhost:8080/"
        },
        "outputId": "3ab387e9-3053-45cd-8490-e5df4570474b"
      },
      "execution_count": null,
      "outputs": [
        {
          "output_type": "execute_result",
          "data": {
            "text/plain": [
              "{'spreadsheetId': '1BVJiIiRIXodp-rVjRePDKwrQv9slWkTk07dUiS-eLAU',\n",
              " 'updatedCells': 7092,\n",
              " 'updatedColumns': 6,\n",
              " 'updatedRange': \"'志工時數登錄表(From Colab)'!A1:F1182\",\n",
              " 'updatedRows': 1182}"
            ]
          },
          "metadata": {},
          "execution_count": 58
        }
      ]
    },
    {
      "cell_type": "code",
      "source": [
        ""
      ],
      "metadata": {
        "id": "Ma88ODpvtbaS"
      },
      "execution_count": null,
      "outputs": []
    }
  ]
}